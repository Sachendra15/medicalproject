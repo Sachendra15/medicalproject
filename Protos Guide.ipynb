{
 "cells": [
  {
   "cell_type": "code",
   "execution_count": null,
   "id": "60089e94",
   "metadata": {},
   "outputs": [],
   "source": []
  },
  {
   "cell_type": "code",
   "execution_count": null,
   "id": "d3788332",
   "metadata": {},
   "outputs": [],
   "source": []
  },
  {
   "cell_type": "code",
   "execution_count": null,
   "id": "286e2861",
   "metadata": {},
   "outputs": [],
   "source": [
    "syntax = \"proto3\";\n",
    "\n",
    "package tutorial;  # Reduce chances of naming conflict\n",
    "                   # No effect on generated code\n",
    "\n",
    "message Person {       ## Message amd field stucture\n",
    "  optional string name = 1;\n",
    "  optional int32 id = 2;\n",
    "  optional string email = 3;\n",
    "\n",
    "  enum PhoneType {\n",
    "    MOBILE = 0;\n",
    "    HOME = 1;\n",
    "    WORK = 2;\n",
    "  }\n",
    "\n",
    "  message PhoneNumber {\n",
    "    optional string number = 1;\n",
    "    optional PhoneType type = 2 [default = HOME];\n",
    "  }\n",
    "\n",
    "  repeated PhoneNumber phones = 4;\n",
    "}\n",
    "\n",
    "message AddressBook {\n",
    "  repeated Person people = 1;\n",
    "}"
   ]
  },
  {
   "cell_type": "code",
   "execution_count": null,
   "id": "1ded1dc3",
   "metadata": {},
   "outputs": [],
   "source": [
    "Message : Set of fields\n",
    "    \n",
    "    Field contain datatypes : float, string, int, Bool, \n",
    "You can also add further structure to your messages by using other message types as field types-\n",
    "in the above example the Person message contains PhoneNumber messages, \n",
    "while the AddressBook message contains Person messages. You can even define message types\n",
    "nested inside other messages – as you can see, the PhoneNumber type is defined inside Person.\n",
    "You can also define enum types if you want one of your fields to have one of a predefined lis\n",
    "t of values – here you want to specify that a phone number can be one of the following phone types:\n",
    "    MOBILE, HOME, or WORK"
   ]
  },
  {
   "cell_type": "code",
   "execution_count": null,
   "id": "ea915234",
   "metadata": {},
   "outputs": [],
   "source": []
  },
  {
   "cell_type": "code",
   "execution_count": null,
   "id": "a3c818ea",
   "metadata": {},
   "outputs": [],
   "source": []
  },
  {
   "cell_type": "code",
   "execution_count": null,
   "id": "29893d85",
   "metadata": {},
   "outputs": [],
   "source": []
  },
  {
   "cell_type": "code",
   "execution_count": null,
   "id": "f258ec3e",
   "metadata": {},
   "outputs": [],
   "source": []
  },
  {
   "cell_type": "code",
   "execution_count": null,
   "id": "4e9eef50",
   "metadata": {},
   "outputs": [],
   "source": []
  },
  {
   "cell_type": "code",
   "execution_count": null,
   "id": "94dd7a26",
   "metadata": {},
   "outputs": [],
   "source": []
  },
  {
   "cell_type": "code",
   "execution_count": null,
   "id": "7a3123ed",
   "metadata": {},
   "outputs": [],
   "source": []
  },
  {
   "cell_type": "code",
   "execution_count": null,
   "id": "cbed6d47",
   "metadata": {},
   "outputs": [],
   "source": []
  },
  {
   "cell_type": "code",
   "execution_count": null,
   "id": "bf65d9b9",
   "metadata": {},
   "outputs": [],
   "source": []
  }
 ],
 "metadata": {
  "kernelspec": {
   "display_name": "Python 3 (ipykernel)",
   "language": "python",
   "name": "python3"
  },
  "language_info": {
   "codemirror_mode": {
    "name": "ipython",
    "version": 3
   },
   "file_extension": ".py",
   "mimetype": "text/x-python",
   "name": "python",
   "nbconvert_exporter": "python",
   "pygments_lexer": "ipython3",
   "version": "3.9.12"
  }
 },
 "nbformat": 4,
 "nbformat_minor": 5
}
